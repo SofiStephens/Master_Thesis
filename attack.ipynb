{
 "cells": [
  {
   "cell_type": "markdown",
   "metadata": {},
   "source": [
    "- find important words\n",
    "- word2vec?\n",
    "- synonyms with cosine similarity\n",
    "- POS\n",
    "- doc2vec?\n",
    "- highest cosine similarity between options"
   ]
  },
  {
   "cell_type": "code",
   "execution_count": null,
   "metadata": {},
   "outputs": [],
   "source": []
  }
 ],
 "metadata": {
  "language_info": {
   "name": "python"
  }
 },
 "nbformat": 4,
 "nbformat_minor": 2
}
