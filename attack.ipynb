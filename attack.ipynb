{
 "cells": [
  {
   "cell_type": "markdown",
   "metadata": {},
   "source": [
    "- Create a corpus and a vocabulary with the similarity scores to each words (synonyms)\n",
    "- find important words from phrase\n",
    "- word2vec?\n",
    "- synonyms with cosine similarity (or WordNet?)\n",
    "- POS > No\n",
    "- doc2vec?\n",
    "- highest cosine similarity between options > Universal Sentence Enconder"
   ]
  },
  {
   "cell_type": "code",
   "execution_count": 1,
   "metadata": {},
   "outputs": [],
   "source": [
    "import pandas as pd\n",
    "import nltk\n",
    "\n",
    "from nltk.corpus import wordnet as wn "
   ]
  },
  {
   "cell_type": "code",
   "execution_count": 5,
   "metadata": {},
   "outputs": [
    {
     "name": "stderr",
     "output_type": "stream",
     "text": [
      "[nltk_data] Downloading package omw-1.4 to\n",
      "[nltk_data]     C:\\Users\\sofia\\AppData\\Roaming\\nltk_data...\n"
     ]
    },
    {
     "data": {
      "text/plain": [
       "True"
      ]
     },
     "execution_count": 5,
     "metadata": {},
     "output_type": "execute_result"
    }
   ],
   "source": [
    "#nltk.download('omw-1.4')"
   ]
  },
  {
   "cell_type": "code",
   "execution_count": null,
   "metadata": {},
   "outputs": [],
   "source": [
    "phrase= ['My', 'two', 'friends',',' ,'one', 'who', 'identifies', 'as', 'bisexual', 'and', 'the', 'other', 'who', 'identifies', 'as', 'lesbian',',', 'were', 'talking', 'about', 'how', 'they', 'view', 'their', 'sexual', 'orientation']\n",
    "w_contrib=['view', 'their', 'sexual', 'orientation']"
   ]
  },
  {
   "cell_type": "code",
   "execution_count": 2,
   "metadata": {},
   "outputs": [
    {
     "data": {
      "text/plain": [
       "[Synset('orientation.n.01'),\n",
       " Synset('orientation.n.02'),\n",
       " Synset('orientation.n.03'),\n",
       " Synset('predilection.n.01'),\n",
       " Synset('orientation.n.05'),\n",
       " Synset('orientation_course.n.01')]"
      ]
     },
     "execution_count": 2,
     "metadata": {},
     "output_type": "execute_result"
    }
   ],
   "source": [
    "synset= wn.synsets('orientation', pos=wn.NOUN)\n",
    "synset"
   ]
  },
  {
   "cell_type": "code",
   "execution_count": 23,
   "metadata": {},
   "outputs": [
    {
     "data": {
      "text/plain": [
       "[['orientation'],\n",
       " ['orientation'],\n",
       " ['orientation'],\n",
       " ['predilection', 'preference', 'orientation'],\n",
       " ['orientation'],\n",
       " ['orientation_course', 'orientation']]"
      ]
     },
     "execution_count": 23,
     "metadata": {},
     "output_type": "execute_result"
    }
   ],
   "source": [
    "[i.lemma_names() for i in synset]"
   ]
  },
  {
   "cell_type": "code",
   "execution_count": null,
   "metadata": {},
   "outputs": [],
   "source": []
  }
 ],
 "metadata": {
  "kernelspec": {
   "display_name": "base",
   "language": "python",
   "name": "python3"
  },
  "language_info": {
   "codemirror_mode": {
    "name": "ipython",
    "version": 3
   },
   "file_extension": ".py",
   "mimetype": "text/x-python",
   "name": "python",
   "nbconvert_exporter": "python",
   "pygments_lexer": "ipython3",
   "version": "3.9.12"
  }
 },
 "nbformat": 4,
 "nbformat_minor": 2
}
